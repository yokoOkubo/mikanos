{
  "nbformat": 4,
  "nbformat_minor": 0,
  "metadata": {
    "colab": {
      "name": "jsonFile.ipynb",
      "provenance": [],
      "mount_file_id": "1epmDu99i9cNORUU8V0AuKpZFixSxXJHx",
      "authorship_tag": "ABX9TyPN9S/Fvybi6enTKdbA26ub",
      "include_colab_link": true
    },
    "kernelspec": {
      "name": "python3",
      "display_name": "Python 3"
    },
    "language_info": {
      "name": "python"
    }
  },
  "cells": [
    {
      "cell_type": "markdown",
      "metadata": {
        "id": "view-in-github",
        "colab_type": "text"
      },
      "source": [
        "<a href=\"https://colab.research.google.com/github/yokoOkubo/mikanos/blob/master/jsonFile.ipynb\" target=\"_parent\"><img src=\"https://colab.research.google.com/assets/colab-badge.svg\" alt=\"Open In Colab\"/></a>"
      ]
    },
    {
      "cell_type": "code",
      "metadata": {
        "colab": {
          "base_uri": "https://localhost:8080/"
        },
        "id": "QlEgAs4Zu-lO",
        "outputId": "d9053646-bbac-48ba-e60a-097ff7ebe805"
      },
      "source": [
        "import json\n",
        "data = {\n",
        "    'name':['Yamada','Taro'],\n",
        "    'mail':['y@yahoo.co.jp'],\n",
        "    'age' :39,\n",
        "    'tel' :'090-999-999'\n",
        "}\n",
        "fpath = './drive/MyDrive/ColabData/jsonData.txt'\n",
        "try :\n",
        "  with open(fpath, mode=\"w\") as f :\n",
        "    f.write(json.dumps(data,indent=2))\n",
        "    print(\"saved\")\n",
        "except Exception as e :\n",
        "  print(e.getMessage())"
      ],
      "execution_count": 1,
      "outputs": [
        {
          "output_type": "stream",
          "name": "stdout",
          "text": [
            "saved\n"
          ]
        }
      ]
    },
    {
      "cell_type": "code",
      "metadata": {
        "colab": {
          "base_uri": "https://localhost:8080/"
        },
        "id": "32C3dneH8ZPH",
        "outputId": "5ebc2817-fdab-4cc4-ff7d-c4aa5517a4f4"
      },
      "source": [
        "try :\n",
        "  with open(fpath, mode=\"r\") as f :\n",
        "    data = f.read()\n",
        "    obj = json.loads(data)\n",
        "    print (obj['name'])\n",
        "    print (obj['mail'])\n",
        "    print (obj['age'])\n",
        "    print (obj['tel'])\n",
        "except ValueError :\n",
        "  print(\"I/O operation on closed file\")"
      ],
      "execution_count": 2,
      "outputs": [
        {
          "output_type": "stream",
          "name": "stdout",
          "text": [
            "['Yamada', 'Taro']\n",
            "['y@yahoo.co.jp']\n",
            "39\n",
            "090-999-999\n"
          ]
        }
      ]
    }
  ]
}